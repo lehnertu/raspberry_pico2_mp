{
 "cells": [
  {
   "cell_type": "markdown",
   "id": "a8267554-5002-4019-a9e7-5011a88b4f1c",
   "metadata": {},
   "source": [
    "# Extract numeric value from bits in a bytearray"
   ]
  },
  {
   "cell_type": "code",
   "execution_count": 1,
   "id": "908e7f64-9cdf-4f89-822a-c3f3f2c31344",
   "metadata": {},
   "outputs": [],
   "source": [
    "arr = bytearray([\n",
    "    0x12, 0x34, 0x56, 0x78,\n",
    "    0x9A, 0xBC, 0xDE, 0xF0,\n",
    "    0x11, 0x22, 0x33, 0x44,\n",
    "    0x55, 0x66, 0x77, 0x88 ])"
   ]
  },
  {
   "cell_type": "code",
   "execution_count": 2,
   "id": "1f3d4b66-9e14-42c7-8d13-7d652f7e4ccc",
   "metadata": {},
   "outputs": [],
   "source": [
    "def extract_bit_field(data:bytearray, offset:int, num_bits:int) -> int:\n",
    "    \"\"\"\n",
    "    extract a range of bits from a byte array.\n",
    "    offset is the index of the first bit (LSB) to be used\n",
    "    num_bits is the number of bits to be extracted\n",
    "    returned is the resulting bit array as an integer number.\n",
    "    \"\"\"\n",
    "    # transform the array into a big int\n",
    "    big_int = int.from_bytes(data, \"big\")\n",
    "    # shift right to move the start bit to the LSB position\n",
    "    shifted = big_int >> offset\n",
    "    # compute the bitmask selecting the correct number of bits\n",
    "    bitmask = (1 << num_bits) - 1\n",
    "    return shifted & bitmask"
   ]
  },
  {
   "cell_type": "code",
   "execution_count": 4,
   "id": "2f68b6a6-bd55-409a-bd9e-5fecb90c3d04",
   "metadata": {},
   "outputs": [
    {
     "name": "stdout",
     "output_type": "stream",
     "text": [
      "Extracted value: 136 = 0x88\n"
     ]
    }
   ],
   "source": [
    "res = extract_bit_field(arr,0,8)\n",
    "print(f\"Extracted value arr(0,8): {res} = 0x{res:X}\")"
   ]
  },
  {
   "cell_type": "code",
   "execution_count": 5,
   "id": "7a62df23-b959-495c-a58a-2cd177681573",
   "metadata": {},
   "outputs": [
    {
     "name": "stdout",
     "output_type": "stream",
     "text": [
      "Extracted value: 119 = 0x77\n"
     ]
    }
   ],
   "source": [
    "res = extract_bit_field(arr,8,8)\n",
    "print(f\"Extracted value: {res} = 0x{res:X}\")"
   ]
  },
  {
   "cell_type": "code",
   "execution_count": 7,
   "id": "e0d3a481-213b-479c-b783-8d3e019b49dd",
   "metadata": {},
   "outputs": [
    {
     "name": "stdout",
     "output_type": "stream",
     "text": [
      "Extracted value: 23 = 0x17\n"
     ]
    }
   ],
   "source": [
    "res = extract_bit_field(arr,8,5)\n",
    "print(f\"Extracted value: {res} = 0x{res:X}\")"
   ]
  },
  {
   "cell_type": "code",
   "execution_count": 8,
   "id": "096aef1d-ac82-44be-992b-bbae0b683d62",
   "metadata": {},
   "outputs": [
    {
     "name": "stdout",
     "output_type": "stream",
     "text": [
      "Extracted value: 3 = 0x3\n"
     ]
    }
   ],
   "source": [
    "res = extract_bit_field(arr,8,2)\n",
    "print(f\"Extracted value: {res} = 0x{res:X}\")"
   ]
  },
  {
   "cell_type": "code",
   "execution_count": 9,
   "id": "b20ed5b0-1072-4c13-b81f-64633b2ee6fe",
   "metadata": {},
   "outputs": [
    {
     "name": "stdout",
     "output_type": "stream",
     "text": [
      "Extracted value: 1 = 0x1\n"
     ]
    }
   ],
   "source": [
    "res = extract_bit_field(arr,8,1)\n",
    "print(f\"Extracted value: {res} = 0x{res:X}\")"
   ]
  },
  {
   "cell_type": "code",
   "execution_count": 10,
   "id": "9894adf5-7427-4e62-9f9c-8850eac532df",
   "metadata": {},
   "outputs": [
    {
     "name": "stdout",
     "output_type": "stream",
     "text": [
      "Extracted value: 26231 = 0x6677\n"
     ]
    }
   ],
   "source": [
    "res = extract_bit_field(arr,8,16)\n",
    "print(f\"Extracted value: {res} = 0x{res:X}\")"
   ]
  },
  {
   "cell_type": "code",
   "execution_count": 11,
   "id": "1b6dcd67-3ede-4d96-857e-4634713a0b7a",
   "metadata": {},
   "outputs": [
    {
     "name": "stdout",
     "output_type": "stream",
     "text": [
      "Extracted value: 631 = 0x277\n"
     ]
    }
   ],
   "source": [
    "res = extract_bit_field(arr,8,10)\n",
    "print(f\"Extracted value: {res} = 0x{res:X}\")"
   ]
  },
  {
   "cell_type": "code",
   "execution_count": null,
   "id": "16cd0d96-1dac-499f-969f-4df0e304e9f0",
   "metadata": {},
   "outputs": [],
   "source": []
  }
 ],
 "metadata": {
  "kernelspec": {
   "display_name": "Python 3 (ipykernel)",
   "language": "python",
   "name": "python3"
  },
  "language_info": {
   "codemirror_mode": {
    "name": "ipython",
    "version": 3
   },
   "file_extension": ".py",
   "mimetype": "text/x-python",
   "name": "python",
   "nbconvert_exporter": "python",
   "pygments_lexer": "ipython3",
   "version": "3.10.12"
  }
 },
 "nbformat": 4,
 "nbformat_minor": 5
}
