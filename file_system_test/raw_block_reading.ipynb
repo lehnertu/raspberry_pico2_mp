{
 "cells": [
  {
   "cell_type": "code",
   "execution_count": 1,
   "id": "ab34d404-ef68-4066-99b1-c9b03e082b0b",
   "metadata": {},
   "outputs": [],
   "source": [
    "import struct\n",
    "import numpy as np\n",
    "import matplotlib.pyplot as plt\n",
    "import os"
   ]
  },
  {
   "cell_type": "code",
   "execution_count": 2,
   "id": "cea2c004-b9cd-407e-891c-934b46969131",
   "metadata": {},
   "outputs": [
    {
     "data": {
      "text/plain": [
       "['rfkill',\n",
       " 'vga_arbiter',\n",
       " 'mem',\n",
       " 'null',\n",
       " 'port',\n",
       " 'zero',\n",
       " 'full',\n",
       " 'random',\n",
       " 'urandom',\n",
       " 'kmsg',\n",
       " 'tty',\n",
       " 'console',\n",
       " 'tty0',\n",
       " 'vcs',\n",
       " 'vcsu',\n",
       " 'vcsa',\n",
       " 'vcs1',\n",
       " 'vcsu1',\n",
       " 'vcsa1',\n",
       " 'tty1',\n",
       " 'tty2',\n",
       " 'tty3',\n",
       " 'tty4',\n",
       " 'tty5',\n",
       " 'tty6',\n",
       " 'tty7',\n",
       " 'tty8',\n",
       " 'tty9',\n",
       " 'tty10',\n",
       " 'tty11',\n",
       " 'tty12',\n",
       " 'tty13',\n",
       " 'tty14',\n",
       " 'tty15',\n",
       " 'tty16',\n",
       " 'tty17',\n",
       " 'tty18',\n",
       " 'tty19',\n",
       " 'tty20',\n",
       " 'tty21',\n",
       " 'tty22',\n",
       " 'tty23',\n",
       " 'tty24',\n",
       " 'tty25',\n",
       " 'tty26',\n",
       " 'tty27',\n",
       " 'tty28',\n",
       " 'tty29',\n",
       " 'tty30',\n",
       " 'tty31',\n",
       " 'tty32',\n",
       " 'tty33',\n",
       " 'tty34',\n",
       " 'tty35',\n",
       " 'tty36',\n",
       " 'tty37',\n",
       " 'tty38',\n",
       " 'tty39',\n",
       " 'tty40',\n",
       " 'tty41',\n",
       " 'tty42',\n",
       " 'tty43',\n",
       " 'tty44',\n",
       " 'tty45',\n",
       " 'tty46',\n",
       " 'tty47',\n",
       " 'tty48',\n",
       " 'tty49',\n",
       " 'tty50',\n",
       " 'tty51',\n",
       " 'tty52',\n",
       " 'tty53',\n",
       " 'tty54',\n",
       " 'tty55',\n",
       " 'tty56',\n",
       " 'tty57',\n",
       " 'tty58',\n",
       " 'tty59',\n",
       " 'tty60',\n",
       " 'tty61',\n",
       " 'tty62',\n",
       " 'tty63',\n",
       " 'hwrng',\n",
       " 'snapshot',\n",
       " 'userfaultfd',\n",
       " 'ecryptfs',\n",
       " 'fuse',\n",
       " 'ptmx',\n",
       " 'ttyS0',\n",
       " 'ttyS1',\n",
       " 'ttyS2',\n",
       " 'ttyS3',\n",
       " 'ttyS4',\n",
       " 'ttyS5',\n",
       " 'ttyS6',\n",
       " 'ttyS7',\n",
       " 'ttyS8',\n",
       " 'ttyS9',\n",
       " 'ttyS10',\n",
       " 'ttyS11',\n",
       " 'ttyS12',\n",
       " 'ttyS13',\n",
       " 'ttyS14',\n",
       " 'ttyS15',\n",
       " 'ttyS16',\n",
       " 'ttyS17',\n",
       " 'ttyS18',\n",
       " 'ttyS19',\n",
       " 'ttyS20',\n",
       " 'ttyS21',\n",
       " 'ttyS22',\n",
       " 'ttyS23',\n",
       " 'ttyS24',\n",
       " 'ttyS25',\n",
       " 'ttyS26',\n",
       " 'ttyS27',\n",
       " 'ttyS28',\n",
       " 'ttyS29',\n",
       " 'ttyS30',\n",
       " 'ttyS31',\n",
       " 'ttyprintk',\n",
       " 'hpet',\n",
       " 'tpm0',\n",
       " 'loop-control',\n",
       " 'loop0',\n",
       " 'loop1',\n",
       " 'loop2',\n",
       " 'loop3',\n",
       " 'loop4',\n",
       " 'loop5',\n",
       " 'loop6',\n",
       " 'loop7',\n",
       " 'dma_heap',\n",
       " 'udmabuf',\n",
       " 'net',\n",
       " 'ppp',\n",
       " 'input',\n",
       " 'psaux',\n",
       " 'uinput',\n",
       " 'rtc0',\n",
       " 'mapper',\n",
       " 'mcelog',\n",
       " 'cpu_dma_latency',\n",
       " 'pts',\n",
       " 'char',\n",
       " 'bus',\n",
       " 'i2c-0',\n",
       " 'rtc',\n",
       " 'block',\n",
       " 'ptp0',\n",
       " 'sg0',\n",
       " 'bsg',\n",
       " 'sda',\n",
       " 'sda1',\n",
       " 'sda2',\n",
       " 'sda3',\n",
       " 'sda4',\n",
       " 'sda5',\n",
       " 'sda6',\n",
       " 'i2c-1',\n",
       " 'i2c-2',\n",
       " 'i2c-3',\n",
       " 'i2c-4',\n",
       " 'i2c-5',\n",
       " 'i2c-6',\n",
       " 'sr0',\n",
       " 'sg1',\n",
       " 'disk',\n",
       " 'dri',\n",
       " 'drm_dp_aux0',\n",
       " 'i2c-7',\n",
       " 'drm_dp_aux1',\n",
       " 'i2c-8',\n",
       " 'fb0',\n",
       " 'autofs',\n",
       " 'shm',\n",
       " 'core',\n",
       " 'fd',\n",
       " 'stdin',\n",
       " 'stdout',\n",
       " 'stderr',\n",
       " 'initctl',\n",
       " 'log',\n",
       " 'hugepages',\n",
       " 'mqueue',\n",
       " 'cpu',\n",
       " 'cuse',\n",
       " 'btrfs-control',\n",
       " 'nvram',\n",
       " 'userio',\n",
       " 'uhid',\n",
       " 'vfio',\n",
       " 'vhci',\n",
       " 'vhost-net',\n",
       " 'vhost-vsock',\n",
       " 'snd',\n",
       " 'zfs',\n",
       " 'loop8',\n",
       " 'loop9',\n",
       " 'loop11',\n",
       " 'loop10',\n",
       " 'loop13',\n",
       " 'loop12',\n",
       " 'loop14',\n",
       " 'loop15',\n",
       " 'mei0',\n",
       " 'vboxusb',\n",
       " 'mtd0',\n",
       " 'mtd0ro',\n",
       " 'mtd1',\n",
       " 'mtd1ro',\n",
       " 'cdc-wdm1',\n",
       " 'kvm',\n",
       " 'video0',\n",
       " 'video1',\n",
       " 'media0',\n",
       " 'v4l',\n",
       " 'vcs2',\n",
       " 'vcsu2',\n",
       " 'vcsa2',\n",
       " 'vcs3',\n",
       " 'vcsu3',\n",
       " 'vcsa3',\n",
       " 'vcs4',\n",
       " 'vcsu4',\n",
       " 'vcsa4',\n",
       " 'vcs5',\n",
       " 'vcsu5',\n",
       " 'vcsa5',\n",
       " 'vcs6',\n",
       " 'vcsu6',\n",
       " 'vcsa6',\n",
       " 'ptp1',\n",
       " 'loop16',\n",
       " 'vboxdrv',\n",
       " 'vboxdrvu',\n",
       " 'vboxnetctl',\n",
       " 'cdrom',\n",
       " 'loop17',\n",
       " 'hidraw0',\n",
       " 'usb',\n",
       " 'hidraw1',\n",
       " 'hidraw2',\n",
       " 'mmcblk0']"
      ]
     },
     "execution_count": 2,
     "metadata": {},
     "output_type": "execute_result"
    }
   ],
   "source": [
    "os.listdir('/dev')"
   ]
  },
  {
   "cell_type": "code",
   "execution_count": 3,
   "id": "58380633-f2f7-48cd-9564-faf58e2a0cc2",
   "metadata": {},
   "outputs": [],
   "source": [
    "device = '/dev/mmcblk0'"
   ]
  },
  {
   "cell_type": "markdown",
   "id": "9577bfbf-31d8-4c1c-abec-f28bfd9efa0b",
   "metadata": {},
   "source": [
    "für den Zugriff ist folgendes Kommando notwendig\n",
    "\n",
    "sudo chmod 777 /dev/mmcblk0"
   ]
  },
  {
   "cell_type": "code",
   "execution_count": 4,
   "id": "821a36f3-6dc3-4707-b7db-7fb35c3ea01a",
   "metadata": {},
   "outputs": [
    {
     "name": "stdout",
     "output_type": "stream",
     "text": [
      "brwxrwxrwx 1 root disk 179, 0 Feb 19 13:32 /dev/mmcblk0\n"
     ]
    }
   ],
   "source": [
    "!ls -l {device}"
   ]
  },
  {
   "cell_type": "code",
   "execution_count": 5,
   "id": "bde87a77-69f7-4752-9446-83795a4d99d3",
   "metadata": {},
   "outputs": [
    {
     "name": "stdout",
     "output_type": "stream",
     "text": [
      "NAME      SIZE\n",
      "loop1       4K\n",
      "loop2   275,3M\n",
      "loop3    63,7M\n",
      "loop4    73,9M\n",
      "loop5   184,7M\n",
      "loop6    44,4M\n",
      "loop7   346,3M\n",
      "loop8   349,7M\n",
      "loop9     497M\n",
      "loop10  505,1M\n",
      "loop11   91,7M\n",
      "loop12  184,6M\n",
      "loop13   44,3M\n",
      "loop14   73,9M\n",
      "loop15   63,7M\n",
      "loop16  273,7M\n",
      "sda     931,5G\n",
      "├─sda1    3,7G\n",
      "├─sda2      1K\n",
      "├─sda3  476,3G\n",
      "├─sda4  296,9G\n",
      "├─sda5   14,9G\n",
      "└─sda6  139,7G\n",
      "sr0     542,7M\n",
      "mmcblk0   3,7G\n"
     ]
    }
   ],
   "source": [
    "!lsblk -o NAME,SIZE"
   ]
  },
  {
   "cell_type": "code",
   "execution_count": 22,
   "id": "1ea08786-4fd9-4028-bd81-bec4eb596c94",
   "metadata": {},
   "outputs": [
    {
     "name": "stdout",
     "output_type": "stream",
     "text": [
      "de e1 62 0b 00 00 00 00 01 00 00 00 00 00 00 00 78 56 34 12 00 00 00 00 00 00 00 00 00 00 00 00\n",
      "00 00 00 00 00 00 00 00 00 00 00 00 00 00 00 00 00 00 00 00 00 00 00 00 00 00 00 00 00 00 00 00\n",
      "00 00 00 00 00 00 00 00 00 00 00 00 00 00 00 00 00 00 00 00 00 00 00 00 00 00 00 00 00 00 00 00\n",
      "00 00 00 00 00 00 00 00 00 00 00 00 00 00 00 00 00 00 00 00 00 00 00 00 00 00 00 00 00 00 00 00\n",
      "00 00 00 00 00 00 00 00 00 00 00 00 00 00 00 00 00 00 00 00 00 00 00 00 00 00 00 00 00 00 00 00\n",
      "00 00 00 00 00 00 00 00 00 00 00 00 00 00 00 00 00 00 00 00 00 00 00 00 00 00 00 00 00 00 00 00\n",
      "00 00 00 00 00 00 00 00 00 00 00 00 00 00 00 00 00 00 00 00 00 00 00 00 00 00 00 00 00 00 00 00\n",
      "00 00 00 00 00 00 00 00 00 00 00 00 00 00 00 00 00 00 00 00 00 00 00 00 00 00 00 00 00 00 00 00\n",
      "00 00 00 00 00 00 00 00 00 00 00 00 00 00 00 00 00 00 00 00 00 00 00 00 00 00 00 00 00 00 00 00\n",
      "00 00 00 00 00 00 00 00 00 00 00 00 00 00 00 00 00 00 00 00 00 00 00 00 00 00 00 00 00 00 00 00\n",
      "00 00 00 00 00 00 00 00 00 00 00 00 00 00 00 00 00 00 00 00 00 00 00 00 00 00 00 00 00 00 00 00\n",
      "00 00 00 00 00 00 00 00 00 00 00 00 00 00 00 00 00 00 00 00 00 00 00 00 00 00 00 00 00 00 00 00\n",
      "00 00 00 00 00 00 00 00 00 00 00 00 00 00 00 00 00 00 00 00 00 00 00 00 00 00 00 00 00 00 00 00\n",
      "00 00 00 00 00 00 00 00 00 00 00 00 00 00 00 00 00 00 00 00 00 00 00 00 00 00 00 00 00 00 00 00\n",
      "00 00 00 00 00 00 00 00 00 00 00 00 00 00 00 00 00 00 00 00 00 00 00 00 00 00 00 00 00 00 00 00\n",
      "00 00 00 00 00 00 00 00 00 00 00 00 00 00 00 00 00 00 00 00 00 00 00 00 00 00 00 00 00 00 cc cc\n"
     ]
    }
   ],
   "source": [
    "bdev = open(device,'rb')\n",
    "# skip to the second block\n",
    "bdev.seek(512)\n",
    "block = bdev.read(512)\n",
    "bdev.close()\n",
    "\n",
    "for ln in range(16):\n",
    "    line = block[ln*32:(ln+1)*32]\n",
    "    print(' '.join(f'{byte:02x}' for byte in line))\n"
   ]
  },
  {
   "cell_type": "code",
   "execution_count": 27,
   "id": "8d4e6893-1e74-4eb7-8382-143fd2e634eb",
   "metadata": {},
   "outputs": [
    {
     "data": {
      "text/plain": [
       "b'\\xde\\xe1b\\x0b\\x00\\x00\\x00\\x00\\x01\\x00\\x00\\x00\\x00\\x00\\x00\\x00xV4\\x12\\x00\\x00\\x00\\x00\\x00\\x00\\x00\\x00\\x00\\x00\\x00\\x00\\x00\\x00\\x00\\x00\\x00\\x00\\x00\\x00\\x00\\x00\\x00\\x00\\x00\\x00\\x00\\x00\\x00\\x00\\x00\\x00\\x00\\x00\\x00\\x00\\x00\\x00\\x00\\x00\\x00\\x00\\x00\\x00\\x00\\x00\\x00\\x00\\x00\\x00\\x00\\x00\\x00\\x00\\x00\\x00\\x00\\x00\\x00\\x00\\x00\\x00\\x00\\x00\\x00\\x00\\x00\\x00\\x00\\x00\\x00\\x00\\x00\\x00\\x00\\x00\\x00\\x00\\x00\\x00\\x00\\x00\\x00\\x00\\x00\\x00\\x00\\x00\\x00\\x00\\x00\\x00\\x00\\x00\\x00\\x00\\x00\\x00\\x00\\x00\\x00\\x00\\x00\\x00\\x00\\x00\\x00\\x00\\x00\\x00\\x00\\x00\\x00\\x00\\x00\\x00\\x00\\x00\\x00\\x00\\x00\\x00\\x00\\x00\\x00\\x00\\x00\\x00\\x00\\x00\\x00\\x00\\x00\\x00\\x00\\x00\\x00\\x00\\x00\\x00\\x00\\x00\\x00\\x00\\x00\\x00\\x00\\x00\\x00\\x00\\x00\\x00\\x00\\x00\\x00\\x00\\x00\\x00\\x00\\x00\\x00\\x00\\x00\\x00\\x00\\x00\\x00\\x00\\x00\\x00\\x00\\x00\\x00\\x00\\x00\\x00\\x00\\x00\\x00\\x00\\x00\\x00\\x00\\x00\\x00\\x00\\x00\\x00\\x00\\x00\\x00\\x00\\x00\\x00\\x00\\x00\\x00\\x00\\x00\\x00\\x00\\x00\\x00\\x00\\x00\\x00\\x00\\x00\\x00\\x00\\x00\\x00\\x00\\x00\\x00\\x00\\x00\\x00\\x00\\x00\\x00\\x00\\x00\\x00\\x00\\x00\\x00\\x00\\x00\\x00\\x00\\x00\\x00\\x00\\x00\\x00\\x00\\x00\\x00\\x00\\x00\\x00\\x00\\x00\\x00\\x00\\x00\\x00\\x00\\x00\\x00\\x00\\x00\\x00\\x00\\x00\\x00\\x00\\x00\\x00\\x00\\x00\\x00\\x00\\x00\\x00\\x00\\x00\\x00\\x00\\x00\\x00\\x00\\x00\\x00\\x00\\x00\\x00\\x00\\x00\\x00\\x00\\x00\\x00\\x00\\x00\\x00\\x00\\x00\\x00\\x00\\x00\\x00\\x00\\x00\\x00\\x00\\x00\\x00\\x00\\x00\\x00\\x00\\x00\\x00\\x00\\x00\\x00\\x00\\x00\\x00\\x00\\x00\\x00\\x00\\x00\\x00\\x00\\x00\\x00\\x00\\x00\\x00\\x00\\x00\\x00\\x00\\x00\\x00\\x00\\x00\\x00\\x00\\x00\\x00\\x00\\x00\\x00\\x00\\x00\\x00\\x00\\x00\\x00\\x00\\x00\\x00\\x00\\x00\\x00\\x00\\x00\\x00\\x00\\x00\\x00\\x00\\x00\\x00\\x00\\x00\\x00\\x00\\x00\\x00\\x00\\x00\\x00\\x00\\x00\\x00\\x00\\x00\\x00\\x00\\x00\\x00\\x00\\x00\\x00\\x00\\x00\\x00\\x00\\x00\\x00\\x00\\x00\\x00\\x00\\x00\\x00\\x00\\x00\\x00\\x00\\x00\\x00\\x00\\x00\\x00\\x00\\x00\\x00\\x00\\x00\\x00\\x00\\x00\\x00\\x00\\x00\\x00\\x00\\x00\\x00\\x00\\x00\\x00\\x00\\x00\\x00\\x00\\x00\\x00\\x00\\x00\\x00\\x00\\x00\\x00\\x00\\x00\\x00\\x00\\x00\\x00\\x00\\x00\\x00\\x00\\x00\\x00\\x00\\x00\\x00\\x00\\x00\\x00\\x00\\x00\\x00\\x00\\x00\\x00\\x00\\x00\\x00\\x00\\x00\\x00\\x00\\x00\\x00\\x00\\x00\\x00\\x00\\x00\\x00\\x00\\x00\\x00\\x00\\x00\\x00\\x00\\x00\\x00\\x00\\x00\\x00\\x00\\x00\\x00\\x00\\x00\\x00\\x00\\x00\\xcc\\xcc'"
      ]
     },
     "execution_count": 27,
     "metadata": {},
     "output_type": "execute_result"
    }
   ],
   "source": [
    "block"
   ]
  },
  {
   "cell_type": "code",
   "execution_count": 31,
   "id": "d4584208-bed1-4211-8bde-f2caeac7b255",
   "metadata": {},
   "outputs": [],
   "source": [
    "import struct"
   ]
  },
  {
   "cell_type": "code",
   "execution_count": 39,
   "id": "a11fd4d7-fba4-4a6f-8255-62d2550fd41d",
   "metadata": {},
   "outputs": [
    {
     "name": "stdout",
     "output_type": "stream",
     "text": [
      "191029726\n"
     ]
    }
   ],
   "source": [
    "timestamp = struct.unpack_from('i',block,offset=0)[0]\n",
    "print(timestamp)"
   ]
  },
  {
   "cell_type": "code",
   "execution_count": 43,
   "id": "78d33436-d32e-4e74-9425-68764ae2e352",
   "metadata": {},
   "outputs": [],
   "source": [
    "t=[]\n",
    "\n",
    "bdev = open(device,'rb')\n",
    "# skip to the second block\n",
    "bdev.seek(512)\n",
    "\n",
    "for block_index in range(3000):\n",
    "    block = bdev.read(512)\n",
    "    timestamp = struct.unpack_from('i',block,offset=0)[0]\n",
    "    t.append(timestamp)\n",
    "    \n",
    "bdev.close()\n",
    "times=np.array(t)"
   ]
  },
  {
   "cell_type": "code",
   "execution_count": 44,
   "id": "b8b89fae-a7f1-4c84-a759-a80cdba7d303",
   "metadata": {},
   "outputs": [
    {
     "data": {
      "image/png": "[encoded data removed]",
      "text/plain": [
       "<Figure size 432x288 with 1 Axes>"
      ]
     },
     "metadata": {
      "needs_background": "light"
     },
     "output_type": "display_data"
    }
   ],
   "source": [
    "plt.plot(1e-6*times)\n",
    "plt.show()"
   ]
  },
  {
   "cell_type": "code",
   "execution_count": 46,
   "id": "821d3c7a-0950-43e5-947c-a7874e362f0e",
   "metadata": {},
   "outputs": [
    {
     "data": {
      "image/png": "[encoded data removed]",
      "text/plain": [
       "<Figure size 432x288 with 1 Axes>"
      ]
     },
     "metadata": {
      "needs_background": "light"
     },
     "output_type": "display_data"
    }
   ],
   "source": [
    "spacing = (times[1:] - times[:-1])\n",
    "plt.plot(1e-6*spacing)\n",
    "plt.show()"
   ]
  },
  {
   "cell_type": "code",
   "execution_count": 47,
   "id": "48f4b07b-d55a-4715-95e7-fb3ca40700e0",
   "metadata": {},
   "outputs": [
    {
     "data": {
      "image/png": "[encoded data removed]",
      "text/plain": [
       "<Figure size 432x288 with 1 Axes>"
      ]
     },
     "metadata": {
      "needs_background": "light"
     },
     "output_type": "display_data"
    }
   ],
   "source": [
    "plt.plot(1e-6*spacing)\n",
    "plt.ylim(0,0.01)\n",
    "plt.show()"
   ]
  },
  {
   "cell_type": "code",
   "execution_count": null,
   "id": "ff418511-ca15-4afc-9316-c6083c0cf33a",
   "metadata": {},
   "outputs": [],
   "source": []
  }
 ],
 "metadata": {
  "kernelspec": {
   "display_name": "Python 3 (ipykernel)",
   "language": "python",
   "name": "python3"
  },
  "language_info": {
   "codemirror_mode": {
    "name": "ipython",
    "version": 3
   },
   "file_extension": ".py",
   "mimetype": "text/x-python",
   "name": "python",
   "nbconvert_exporter": "python",
   "pygments_lexer": "ipython3",
   "version": "3.10.12"
  }
 },
 "nbformat": 4,
 "nbformat_minor": 5
}
